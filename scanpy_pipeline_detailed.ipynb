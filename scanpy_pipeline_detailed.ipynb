{
 "cells": [
  {
   "cell_type": "code",
   "execution_count": null,
   "id": "0",
   "metadata": {},
   "outputs": [],
   "source": [
    "import os\n",
    "import scanpy\n",
    "import pandas as pd\n",
    "import numpy as np\n",
    "\n",
    "import matplotlib.pyplot as plt\n",
    "import seaborn as sns\n",
    "\n",
    "import json\n",
    "import warnings\n",
    "\n",
    "from gprofiler import GProfiler"
   ]
  },
  {
   "cell_type": "markdown",
   "id": "1",
   "metadata": {},
   "source": [
    "___\n",
    "### Create gene name mapping (from \"gene symbols\" to TAIR IDs)"
   ]
  },
  {
   "cell_type": "code",
   "execution_count": null,
   "id": "2",
   "metadata": {},
   "outputs": [],
   "source": [
    "def build_gene_mapping():\n",
    "\n",
    "    file = \"data/WT1/features.tsv.gz\"\n",
    "    assert os.path.exists(file), f\"{file} does not exist\"\n",
    "    \n",
    "    genes_df = pd.read_csv(file, sep='\\t', header=None) # .iloc[:, 0,1]]\n",
    "    genename_mapping = { row[0]: row[1] for i, row in genes_df.iterrows() }\n",
    "    genename_mapping.update({ row[1]: row[0] for i, row in genes_df.iterrows() })\n",
    "\n",
    "    return genename_mapping"
   ]
  },
  {
   "cell_type": "code",
   "execution_count": null,
   "id": "3",
   "metadata": {},
   "outputs": [],
   "source": [
    "gene_mapping = build_gene_mapping()"
   ]
  },
  {
   "cell_type": "code",
   "execution_count": null,
   "id": "4",
   "metadata": {},
   "outputs": [],
   "source": [
    "# Not using this anymore:\n",
    "# Write gene names to a text file. \n",
    "# This will be loaded by an R script which will query Biomart for the corresponding TAIR IDs (gene IDs that start with `AT`).\n",
    "# this is important for filtering the chloroplastic and mitochondrial genes which are recognized by their names.\n",
    "\n",
    "# with open(\"gene_names.txt\", \"wt\") as genes_f:\n",
    "#    genes_f.write(\"\\n\".join(all_data.var_names.to_list()))\n",
    "\n",
    "# genename_mapping = pd.read_csv(\"gene_symbols_to_tair_ids.txt\")\n",
    "# genename_mapping = { row.external_gene_name: row.tair_locus for index, row in genename_mapping.iterrows() }\n",
    "\n",
    "gp = GProfiler(return_dataframe=True)\n",
    "genename_mapping_df = gp.convert(all_data.var_names.to_list(), organism=\"athaliana\", target_namespace=\"TAIR_LOCUS\")\n",
    "genename_mapping_df.head()\n",
    "\n",
    "# Creamos un diccionario para usar luego:\n",
    "genename_mapping = {row.incoming: row.converted for i, row in genename_mapping_df.iterrows()}"
   ]
  },
  {
   "cell_type": "markdown",
   "id": "5",
   "metadata": {},
   "source": [
    "___"
   ]
  },
  {
   "cell_type": "code",
   "execution_count": null,
   "id": "6",
   "metadata": {},
   "outputs": [],
   "source": [
    "def filter_chloroplastic_and_mitochondrial(all_data, threshold_pct=5):\n",
    "\n",
    "    tair_ids = pd.Series(all_data.var_names).apply(lambda x: genename_mapping.get(x, x))\n",
    "    \n",
    "    def get_chloroplast_genes(adata: scanpy.AnnData):\n",
    "        return adata.var_names[tair_ids.str.startswith(\"ATCG\")].to_list()\n",
    "    \n",
    "    def get_mitochondrial_genes(adata: scanpy.AnnData):\n",
    "        return adata.var_names[tair_ids.str.startswith(\"ATMG\")].to_list()\n",
    "\n",
    "    # Identify chloroplastic and mitocondrial genes\n",
    "    chloroplast_genes     = get_chloroplast_genes(all_data)\n",
    "    mitochondrial_genes   = get_mitochondrial_genes(all_data)\n",
    "\n",
    "    # print(f\"Chloroplastic genes: {chloroplast_genes}\")\n",
    "    # print(f\"Mitochondrial genes: {mitochondrial_genes}\")\n",
    "    \n",
    "    all_data.obs['percent_pt'] = 100 * ( all_data[:, chloroplast_genes].X.sum(axis=1)   / all_data.X.sum(axis=1) ) \n",
    "    all_data.obs['percent_mt'] = 100 * ( all_data[:, mitochondrial_genes].X.sum(axis=1) / all_data.X.sum(axis=1) )\n",
    "\n",
    "    ## Examine cells with a percentage of protoplastic genes greater than >5%\n",
    "    # all_data.obs['percent_pt'][all_data.obs['percent_pt'] > 5]\n",
    "    \n",
    "    # now we get rid of them\n",
    "    all_data = all_data[all_data.obs['percent_pt'] < threshold_pct, :]\n",
    "    \n",
    "    return all_data"
   ]
  },
  {
   "cell_type": "markdown",
   "id": "7",
   "metadata": {},
   "source": [
    "___"
   ]
  },
  {
   "cell_type": "code",
   "execution_count": null,
   "id": "8",
   "metadata": {},
   "outputs": [],
   "source": [
    "def pipeline(files=[\"data/WT1\", \"data/WT2\", \"data/WT3\"]):\n",
    "\n",
    "    replicas = list()\n",
    "    for i, file in enumerate(files):\n",
    "        replicas.append(scanpy.read_10x_mtx(file, make_unique=True))\n",
    "        replicas[i].obs[\"replica\"] = f\"replica_{i+1}\"\n",
    "\n",
    "    all_data = scanpy.concat(replicas); del replicas\n",
    "    all_data.obs_names_make_unique()\n",
    "\n",
    "    MIN_GENES, MIN_CELLS = 3, 200\n",
    "    scanpy.pp.filter_cells(all_data, min_genes=MIN_GENES); print(all_data.shape)\n",
    "    scanpy.pp.filter_genes(all_data, min_cells=MIN_CELLS); print(all_data.shape)\n",
    "\n",
    "    all_data = filter_chloroplastic_and_mitochondrial(all_data)\n",
    "\n",
    "    FLAVOR = \"seurat_v3\"\n",
    "    scanpy.pp.highly_variable_genes(all_data, flavor=FLAVOR, n_top_genes=2000, min_mean=0.0125, max_mean=3, min_disp=0.5, span=1)\n",
    "    all_data.var.sort_values(\"variances_norm\", ascending=False)\n",
    "\n",
    "    \n"
   ]
  },
  {
   "cell_type": "markdown",
   "id": "9",
   "metadata": {},
   "source": [
    "___\n",
    "### Load single cell RNA-Seq data"
   ]
  },
  {
   "cell_type": "code",
   "execution_count": null,
   "id": "10",
   "metadata": {},
   "outputs": [],
   "source": [
    "rep1 = scanpy.read_10x_mtx(\"data/WT1\", make_unique=True); rep1.obs[\"replica\"] = \"replica_1\"; print(f\"{rep1.shape=}\")\n",
    "rep2 = scanpy.read_10x_mtx(\"data/WT2\", make_unique=True); rep2.obs[\"replica\"] = \"replica_2\"; print(f\"{rep2.shape=}\")\n",
    "rep3 = scanpy.read_10x_mtx(\"data/WT3\", make_unique=True); rep3.obs[\"replica\"] = \"replica_3\"; print(f\"{rep3.shape=}\")\n",
    "\n",
    "all_data = scanpy.concat([rep1, rep2, rep3]); del rep1, rep2, rep3\n",
    "\n",
    "# Ver cómo funciona esto\n",
    "all_data.obs_names_make_unique()"
   ]
  },
  {
   "cell_type": "markdown",
   "id": "11",
   "metadata": {},
   "source": [
    "___\n",
    "Filter cells with at least 3 genes detected, filter genes that are detected in at least 200 cells."
   ]
  },
  {
   "cell_type": "code",
   "execution_count": null,
   "id": "12",
   "metadata": {},
   "outputs": [],
   "source": [
    "MIN_GENES, MIN_CELLS = 3, 200\n",
    "\n",
    "scanpy.pp.filter_cells(all_data, min_genes=MIN_GENES); print(all_data.shape)\n",
    "scanpy.pp.filter_genes(all_data, min_cells=MIN_CELLS); print(all_data.shape)"
   ]
  },
  {
   "cell_type": "code",
   "execution_count": null,
   "id": "13",
   "metadata": {},
   "outputs": [],
   "source": []
  },
  {
   "cell_type": "markdown",
   "id": "14",
   "metadata": {},
   "source": [
    "## Normalization"
   ]
  },
  {
   "cell_type": "code",
   "execution_count": null,
   "id": "15",
   "metadata": {},
   "outputs": [],
   "source": [
    "# scanpy.pp.regress_out(all_data, keys='percent_pt')"
   ]
  },
  {
   "cell_type": "markdown",
   "id": "16",
   "metadata": {},
   "source": [
    "___\n",
    "\n",
    "Check the docs: https://scanpy.readthedocs.io/en/stable/generated/scanpy.pp.highly_variable_genes.html"
   ]
  },
  {
   "cell_type": "code",
   "execution_count": null,
   "id": "17",
   "metadata": {},
   "outputs": [],
   "source": [
    "# !pip install --user scikit-misc"
   ]
  },
  {
   "cell_type": "code",
   "execution_count": null,
   "id": "18",
   "metadata": {},
   "outputs": [],
   "source": [
    "FLAVOR = \"seurat_v3\"\n",
    "scanpy.pp.highly_variable_genes(all_data, flavor=FLAVOR, n_top_genes=2000, min_mean=0.0125, max_mean=3, min_disp=0.5, span=1)\n",
    "all_data.var.sort_values(\"variances_norm\", ascending=False)"
   ]
  },
  {
   "cell_type": "markdown",
   "id": "19",
   "metadata": {},
   "source": [
    "Write 2000 highly variable genes to file:"
   ]
  },
  {
   "cell_type": "code",
   "execution_count": null,
   "id": "20",
   "metadata": {},
   "outputs": [],
   "source": [
    "scanpy.experimental.pp.normalize_pearson_residuals_pca(all_data, n_comps=50)"
   ]
  },
  {
   "cell_type": "code",
   "execution_count": null,
   "id": "21",
   "metadata": {},
   "outputs": [],
   "source": [
    "pca_loadings_df = pd.DataFrame(all_data.varm['PCs'], index=all_data.var_names, columns=[f\"PC{i}\" for i in range(1,51)])\n",
    "pca_loadings_df.to_csv(\"pca_loadings.csv\")\n",
    "pca_loadings_df.PC1[pca_loadings_df.PC1 != 0].abs().sort_values(ascending=False).head(20)"
   ]
  },
  {
   "cell_type": "code",
   "execution_count": null,
   "id": "22",
   "metadata": {},
   "outputs": [],
   "source": [
    "scanpy.pp.normalize_total(all_data, target_sum=1e4)\n",
    "scanpy.pp.log1p(all_data)\n",
    "scanpy.pp.scale(all_data)"
   ]
  },
  {
   "cell_type": "markdown",
   "id": "23",
   "metadata": {},
   "source": [
    "___\n",
    "Top highly variable genes:"
   ]
  },
  {
   "cell_type": "code",
   "execution_count": null,
   "id": "24",
   "metadata": {},
   "outputs": [],
   "source": [
    "# How is `variances_norm` calculated?\n",
    "all_data.var.sort_values('variances_norm', ascending=False).head(20)"
   ]
  },
  {
   "cell_type": "markdown",
   "id": "25",
   "metadata": {},
   "source": [
    "Genes that are not highly variable:"
   ]
  },
  {
   "cell_type": "code",
   "execution_count": null,
   "id": "26",
   "metadata": {},
   "outputs": [],
   "source": [
    "all_data.var.sort_values('variances_norm').head(20)"
   ]
  },
  {
   "cell_type": "code",
   "execution_count": null,
   "id": "27",
   "metadata": {},
   "outputs": [],
   "source": [
    "RANDOM_STATE = 242"
   ]
  },
  {
   "cell_type": "code",
   "execution_count": null,
   "id": "28",
   "metadata": {},
   "outputs": [],
   "source": [
    "# plt.plot(np.cumsum(all_data.uns['pca']['variance_ratio']))\n",
    "plt.plot(all_data.uns['pca']['variance']);"
   ]
  },
  {
   "cell_type": "code",
   "execution_count": null,
   "id": "29",
   "metadata": {},
   "outputs": [],
   "source": [
    "# scanpy.pp.pca(all_data, n_comps=50, mask_var=\"highly_variable\", random_state=RANDOM_STATE)"
   ]
  },
  {
   "cell_type": "markdown",
   "id": "30",
   "metadata": {},
   "source": [
    "Let's look at what genes show up on each PC:"
   ]
  },
  {
   "cell_type": "code",
   "execution_count": null,
   "id": "31",
   "metadata": {},
   "outputs": [],
   "source": [
    "scanpy.pl.pca_loadings(all_data, components=range(1,13))"
   ]
  },
  {
   "cell_type": "code",
   "execution_count": null,
   "id": "32",
   "metadata": {},
   "outputs": [],
   "source": [
    "all_data.uns['pca']"
   ]
  },
  {
   "cell_type": "code",
   "execution_count": null,
   "id": "33",
   "metadata": {},
   "outputs": [],
   "source": [
    "scanpy.pp.neighbors(all_data, n_neighbors=10, n_pcs=50, random_state=RANDOM_STATE)"
   ]
  },
  {
   "cell_type": "code",
   "execution_count": null,
   "id": "34",
   "metadata": {},
   "outputs": [],
   "source": [
    "# !pip install louvain"
   ]
  },
  {
   "cell_type": "code",
   "execution_count": null,
   "id": "35",
   "metadata": {},
   "outputs": [],
   "source": [
    "scanpy.tl.louvain(all_data, resolution=0.70)"
   ]
  },
  {
   "cell_type": "markdown",
   "id": "36",
   "metadata": {},
   "source": [
    "## UMAP\n"
   ]
  },
  {
   "cell_type": "code",
   "execution_count": null,
   "id": "37",
   "metadata": {},
   "outputs": [],
   "source": [
    "scanpy.tl.umap(all_data, random_state=RANDOM_STATE)"
   ]
  },
  {
   "cell_type": "code",
   "execution_count": null,
   "id": "38",
   "metadata": {},
   "outputs": [],
   "source": [
    "fig, ax = plt.subplots(1,2, figsize=(16, 6))\n",
    "\n",
    "scanpy.pl.umap(all_data, color='louvain', palette='tab20', title='UMAP Colored by Clusters', ax=ax[0], show=False)\n",
    "ax[0].legend(loc='upper right', bbox_to_anchor=(0.98, 0.98), frameon=False, fontsize=6, title=\"Clusters\",title_fontsize=10)\n",
    "\n",
    "primary_colors = ['blue', 'red', 'yellow']\n",
    "scanpy.pl.umap(all_data, color='replica', palette=primary_colors, title='UMAP Colored by replica', ax=ax[1], show=False)\n",
    "ax[1].legend(loc='upper right', bbox_to_anchor=(0.98, 0.98), frameon=True, fontsize=10, title=\"Replicas\", title_fontsize=10)\n",
    "\n",
    "plt.tight_layout()\n",
    "plt.show()"
   ]
  },
  {
   "cell_type": "code",
   "execution_count": null,
   "id": "39",
   "metadata": {},
   "outputs": [],
   "source": [
    "data = dict()\n",
    "\n",
    "for v in sorted(all_data.obs['louvain'].unique().astype(int)):\n",
    "    data[v] = all_data[all_data.obs['louvain']==str(v)].shape[0] # /all_data.shape[0]*100\n",
    "\n",
    "df = pd.DataFrame.from_dict(data, orient='index', columns=['cell counts'])    \n",
    "df['cluster'] = df.index\n",
    "df = df.reset_index(drop=True)\n",
    "sns.barplot(data=df, x='cluster', y='cell counts')\n",
    "plt.show()"
   ]
  },
  {
   "cell_type": "code",
   "execution_count": null,
   "id": "40",
   "metadata": {},
   "outputs": [],
   "source": [
    "# warnings.filterwarnings(\"ignore\")\n",
    "warnings.filterwarnings(\"always\")\n",
    "scanpy.tl.rank_genes_groups(all_data, 'louvain', method='wilcoxon') # \"t-test\""
   ]
  },
  {
   "cell_type": "code",
   "execution_count": null,
   "id": "41",
   "metadata": {},
   "outputs": [],
   "source": [
    "scanpy.pl.rank_genes_groups(all_data, n_genes=20, sharey=False)"
   ]
  },
  {
   "cell_type": "markdown",
   "id": "42",
   "metadata": {},
   "source": [
    "### Associate cell types to clusters"
   ]
  },
  {
   "cell_type": "markdown",
   "id": "43",
   "metadata": {},
   "source": [
    "This is the list of gene markers that are hardcoded into the Seurat pipeline (they were manually generated from papers):"
   ]
  },
  {
   "cell_type": "code",
   "execution_count": null,
   "id": "44",
   "metadata": {},
   "outputs": [],
   "source": [
    "gene_markers_by_cell_type = json.load(open(\"gene_markers_by_cell_type.json\"))\n",
    "gene_markers_by_cell_type.keys()"
   ]
  },
  {
   "cell_type": "markdown",
   "id": "45",
   "metadata": {},
   "source": [
    "But I found another one online: https://biobigdata.nju.edu.cn/scplantdb/marker?species=arabidopsis_thaliana (click on button \"table showing all markers to this species\", top right corner, to download)\n",
    "\n",
    "This one is more comprehensive as it includes more cell types for the leaf, so I will use it instead in what follows:"
   ]
  },
  {
   "cell_type": "code",
   "execution_count": null,
   "id": "46",
   "metadata": {},
   "outputs": [],
   "source": [
    "gene_markers = pd.read_csv(\"arabidopsis_thaliana.marker_fd.csv.gz\")\n",
    "gene_markers = gene_markers.groupby(\"clusterName\").apply(lambda x: x.nlargest(50, 'avg_log2FC')).reset_index(drop=True)\n",
    "\n",
    "display(gene_markers.sample(20))\n",
    "print(gene_markers.clusterName.unique())"
   ]
  },
  {
   "cell_type": "code",
   "execution_count": null,
   "id": "47",
   "metadata": {},
   "outputs": [],
   "source": [
    "tissue_of_interest = 'Leaf'\n",
    "leaf_cell_types = gene_markers.query(\"tissue == @tissue_of_interest\").clusterName.unique()\n",
    "leaf_cell_types"
   ]
  },
  {
   "cell_type": "markdown",
   "id": "48",
   "metadata": {},
   "source": [
    "Here is an explanation of the different leaf cell types:\n",
    "\n",
    "| **Cell Type**             | **Description**                                                                                 |\n",
    "|---------------------------|-------------------------------------------------------------------------------------------------|\n",
    "| **Mesophyll**             | Tissue in the leaf interior, responsible for photosynthesis. Contains chloroplasts.            |\n",
    "| **Leaf Pavement Cell**    | Epidermal cells forming the leaf's outer layer, providing protection and structure.             |\n",
    "| **Companion Cell**        | Cells in the phloem aiding nutrient transport by loading/unloading sugars into sieve tubes.     |\n",
    "| **Xylem**                 | Vascular tissue transporting water and minerals from roots to leaves, composed of dead cells.   |\n",
    "| **Leaf Guard Cell**       | Cells surrounding stomata, regulating gas exchange and water loss by opening/closing pores.     |\n",
    "| **Phloem Parenchyma**     | Parenchyma cells in the phloem, storing and transporting nutrients laterally.                   |\n",
    "| **S Phase**               | Cell cycle phase where DNA replication occurs, preparing for division.                         |\n",
    "| **Vascular Tissue**       | Includes xylem and phloem, responsible for transporting water, nutrients, and food.            |\n",
    "| **Sieve Element**         | Phloem cells conducting nutrients, connected by sieve plates to form sieve tubes.              |\n",
    "| **Hydathodes**            | Specialized pores at leaf edges or tips involved in guttation (water exudation).               |\n",
    "| **Phloem**                | Vascular tissue transporting sugars and organic nutrients throughout the plant.                |\n",
    "| **G2/M Phase**            | Cell cycle phase where the cell transitions from growth (G2) to mitosis (M phase).             |\n",
    "| **Spongy Mesophyll**      | Loose tissue with air spaces for gas exchange, located in the lower part of the leaf.          |\n",
    "| **Palisade Mesophyll**    | Dense tissue beneath the upper epidermis, optimized for photosynthesis with many chloroplasts.  |\n",
    "| **Stress Response**       | Cellular reaction to environmental stress (drought, pathogens, etc.), involving signaling or changes. |\n",
    "| **Bundle Sheath**         | Cells surrounding vascular bundles, aiding in carbon fixation in C4 plants (las plantas C4 son aquellas que utilizan la vía C4 o ruta C4, un proceso de fotosíntesis que se caracteriza por tener una serie de reacciones bioquímicas para fijar el CO2 de la atmósfera).                    |\n",
    "| **Leaf Epidermis**        | Outer protective layer of a leaf, includes pavement cells, guard cells, and trichomes.          |\n",
    "| **Meristematic Cell**     | Undifferentiated cells in meristems capable of dividing and differentiating into other cell types. |\n"
   ]
  },
  {
   "cell_type": "code",
   "execution_count": null,
   "id": "49",
   "metadata": {},
   "outputs": [],
   "source": [
    "gene_markers_by_cell_type = dict()\n",
    "for cell_type in leaf_cell_types:    \n",
    "    gene_markers_by_cell_type[cell_type] = gene_markers.query(\"clusterName == @cell_type\").gene.to_list()"
   ]
  },
  {
   "cell_type": "code",
   "execution_count": null,
   "id": "51",
   "metadata": {},
   "outputs": [],
   "source": [
    "ranked_genes_by_cluster = list()\n",
    "for cluster in range(0, 15):\n",
    "    ranked_genes_df = pd.DataFrame({\n",
    "        'cluster': cluster,\n",
    "        'gene': all_data.uns['rank_genes_groups']['names'][str(cluster)],\n",
    "        'score': all_data.uns['rank_genes_groups']['scores'][str(cluster)],\n",
    "        'pvals': all_data.uns['rank_genes_groups']['pvals'][str(cluster)],\n",
    "    })\n",
    "    ranked_genes_by_cluster.append(ranked_genes_df)\n",
    "    \n",
    "ranked_genes_by_cluster = pd.concat(ranked_genes_by_cluster)"
   ]
  },
  {
   "cell_type": "code",
   "execution_count": null,
   "id": "52",
   "metadata": {},
   "outputs": [],
   "source": [
    "N_GENES = 50\n",
    "topN_deg_genes_by_cluster = ranked_genes_by_cluster.groupby(\"cluster\").apply(lambda x: x.nlargest(N_GENES, 'score')).reset_index(drop=True)\n",
    "topN_deg_genes_by_cluster['tair_id'] = topN_deg_genes_by_cluster.gene.apply(lambda x: genename_mapping.get(x, x))"
   ]
  },
  {
   "cell_type": "code",
   "execution_count": null,
   "id": "53",
   "metadata": {},
   "outputs": [],
   "source": [
    "import ipywidgets as widgets\n",
    "from ipywidgets import interact\n",
    "\n",
    "@interact\n",
    "def show_top_genes_for_cluster(cluster=widgets.IntSlider(min=1,max=15)):\n",
    "  return topN_deg_genes_by_cluster.query(\"cluster == @cluster\")"
   ]
  },
  {
   "cell_type": "code",
   "execution_count": null,
   "id": "54",
   "metadata": {},
   "outputs": [],
   "source": [
    "len(gene_markers_by_cell_type['Bundle sheath'])"
   ]
  },
  {
   "cell_type": "code",
   "execution_count": null,
   "id": "55",
   "metadata": {},
   "outputs": [],
   "source": [
    "gene_markers_by_cluster = { cluster: topN_deg_genes_by_cluster.query(\"cluster == @cluster\").gene.apply(lambda x: genename_mapping.get(x, x)).to_list() for cluster in range(15) }"
   ]
  },
  {
   "cell_type": "code",
   "execution_count": null,
   "id": "56",
   "metadata": {},
   "outputs": [],
   "source": [
    "{ cell: len(genes) for cell, genes in gene_markers_by_cell_type.items() }"
   ]
  },
  {
   "cell_type": "code",
   "execution_count": null,
   "id": "57",
   "metadata": {},
   "outputs": [],
   "source": [
    "contingency_table = {}\n",
    "\n",
    "for group1, elements1 in gene_markers_by_cell_type.items():\n",
    "    row = {}\n",
    "    for group2, elements2 in gene_markers_by_cell_type.items():\n",
    "        intersection = set(elements1) & set(elements2)\n",
    "        row[group2] = len(intersection)\n",
    "    contingency_table[group1] = row\n",
    "\n",
    "df = pd.DataFrame(contingency_table)\n",
    "\n",
    "plt.figure(figsize=(8, 6))  # Set the figure size\n",
    "sns.heatmap(df, annot=True, cmap=\"Blues\", fmt=\"d\", cbar_kws={'label': 'Intersection Count'})\n",
    "\n",
    "plt.title('Cell type to cell type contingency table')\n",
    "plt.tight_layout()\n",
    "plt.show()"
   ]
  },
  {
   "cell_type": "code",
   "execution_count": null,
   "id": "58",
   "metadata": {},
   "outputs": [],
   "source": [
    "contingency_table = {}\n",
    "\n",
    "for group1, elements1 in gene_markers_by_cluster.items():\n",
    "    row = {}\n",
    "    for group2, elements2 in gene_markers_by_cell_type.items():\n",
    "        intersection = set(elements1) & set(elements2)\n",
    "        row[group2] = len(intersection)\n",
    "    contingency_table[group1] = row\n",
    "\n",
    "df = pd.DataFrame(contingency_table)\n",
    "\n",
    "plt.figure(figsize=(8, 6))\n",
    "sns.heatmap(df, annot=True, cmap=\"Blues\", fmt=\"d\", cbar_kws={'label': 'Intersection size (200 is perfect match)'})\n",
    "\n",
    "plt.title('Cell type to cell type contingency table')\n",
    "plt.tight_layout()\n",
    "plt.show()"
   ]
  },
  {
   "cell_type": "code",
   "execution_count": null,
   "id": "59",
   "metadata": {},
   "outputs": [],
   "source": [
    "mesophyll_clusters = ['5', '6', '7', '8']\n",
    "\n",
    "subset_data = all_data[all_data.obs['louvain'].isin(mesophyll_clusters)].copy()\n",
    "\n",
    "scanpy.pp.pca(subset_data, n_comps=20)\n",
    "scanpy.pp.neighbors(subset_data)\n",
    "scanpy.tl.umap(subset_data)"
   ]
  },
  {
   "cell_type": "code",
   "execution_count": null,
   "id": "60",
   "metadata": {},
   "outputs": [],
   "source": [
    "fig, ax = plt.subplots(1,1, figsize=(6, 6))\n",
    "\n",
    "scanpy.pl.umap(subset_data, color='louvain', \n",
    "           palette='Set2',\n",
    "           title='UMAP Colored by Clusters within the Mesophylls', ax=ax, show=False)"
   ]
  },
  {
   "cell_type": "code",
   "execution_count": null,
   "id": "61",
   "metadata": {},
   "outputs": [],
   "source": [
    "pca_loadings_df = pd.DataFrame(subset_data.varm['PCs'], index=subset_data.var_names, columns=[f\"PC{i}\" for i in range(1,21)])"
   ]
  },
  {
   "cell_type": "code",
   "execution_count": null,
   "id": "62",
   "metadata": {},
   "outputs": [],
   "source": [
    "def query_for_go_terms(genes):\n",
    "    terms = enriched = gp.profile(\n",
    "        organism=\"athaliana\",\n",
    "        query=list(genes),\n",
    "        sources=[\"GO:BP\", \"GO:MF\", \"GO:CC\", \"KEGG\"],\n",
    "        no_iea=False,         # Include electronic annotations\n",
    "        user_threshold=0.05,\n",
    "    )\n",
    "    return terms"
   ]
  },
  {
   "cell_type": "code",
   "execution_count": null,
   "id": "63",
   "metadata": {},
   "outputs": [],
   "source": [
    "go_terms = list()\n",
    "\n",
    "for pc in range(1, 5):\n",
    "    top_genes = pca_loadings_df[f\"PC{pc}\"].abs().sort_values(ascending=False).head(500)\n",
    "    go_terms_for_pc = query_for_go_terms(top_genes.index).assign(PC=pc).drop(['significant', 'query'], axis=1)\n",
    "    go_terms.append(go_terms_for_pc)\n",
    "\n",
    "go_terms = pd.concat(go_terms).reset_index().sort_values(\"p_value\")"
   ]
  },
  {
   "cell_type": "code",
   "execution_count": null,
   "id": "64",
   "metadata": {},
   "outputs": [],
   "source": [
    "idx = go_terms.groupby('native')['p_value'].idxmin()"
   ]
  },
  {
   "cell_type": "code",
   "execution_count": null,
   "id": "65",
   "metadata": {},
   "outputs": [],
   "source": [
    "go_terms.loc[idx].sort_values(\"p_value\").head(20)"
   ]
  },
  {
   "cell_type": "markdown",
   "id": "66",
   "metadata": {},
   "source": [
    "___"
   ]
  },
  {
   "cell_type": "markdown",
   "id": "67",
   "metadata": {},
   "source": [
    "# Compare with Seurat"
   ]
  },
  {
   "cell_type": "code",
   "execution_count": null,
   "id": "68",
   "metadata": {},
   "outputs": [],
   "source": [
    "cell_names = all_data.obs_names"
   ]
  },
  {
   "cell_type": "code",
   "execution_count": null,
   "id": "69",
   "metadata": {},
   "outputs": [],
   "source": [
    "cluster_assignments = all_data.obs[\"louvain\"]\n",
    "\n",
    "# import pandas as pd\n",
    "cell_cluster_df = pd.DataFrame({\n",
    "    \"cell\": cell_names,\n",
    "    \"cluster_scanpy\": cluster_assignments\n",
    "})"
   ]
  },
  {
   "cell_type": "code",
   "execution_count": null,
   "id": "70",
   "metadata": {},
   "outputs": [],
   "source": [
    "cell_cluster = cell_cluster_df[\"cluster_scanpy\"].astype(int)"
   ]
  },
  {
   "cell_type": "code",
   "execution_count": null,
   "id": "71",
   "metadata": {},
   "outputs": [],
   "source": [
    "seurat_cluster_142 = pd.read_csv(\"/mnt/rodrigo/Postdoc/scrna-pipeline/output/output_seed142/cells_by_cluster.csv\").iloc[:,1:]"
   ]
  },
  {
   "cell_type": "code",
   "execution_count": null,
   "id": "72",
   "metadata": {},
   "outputs": [],
   "source": [
    "seurat_cluster_142 = pd.read_csv(\"/mnt/rodrigo/Postdoc/scrna-pipeline/output/output_seed142/cells_by_cluster.csv\").iloc[:,1:]\n",
    "seurat_cluster_142.columns = ['cell', 'cluster_seurat']\n",
    "seurat_cluster_242 = pd.read_csv(\"/mnt/rodrigo/Postdoc/scrna-pipeline/output/output_seed242/cells_by_cluster.csv\").iloc[:,1:]\n",
    "seurat_cluster_242.columns = ['cell', 'cluster_seurat']\n",
    "\n",
    "seurat_cluster_142 = seurat_cluster_142.set_index(\"cell\").iloc[:,0]\n",
    "seurat_cluster_242 = seurat_cluster_242.set_index(\"cell\").iloc[:,0]"
   ]
  },
  {
   "cell_type": "code",
   "execution_count": null,
   "id": "73",
   "metadata": {},
   "outputs": [],
   "source": [
    "contingency_matrix = pd.crosstab(cell_cluster, seurat_cluster_142)"
   ]
  },
  {
   "cell_type": "code",
   "execution_count": null,
   "id": "74",
   "metadata": {},
   "outputs": [],
   "source": [
    "contingency_matrix.apply(lambda x: x / contingency_matrix.apply(sum,axis=1)).round(2)*100"
   ]
  },
  {
   "cell_type": "code",
   "execution_count": null,
   "id": "75",
   "metadata": {},
   "outputs": [],
   "source": [
    "fraction_matrix = (contingency_matrix / contingency_matrix.apply(sum,axis=0)).round(4) * 100"
   ]
  },
  {
   "cell_type": "code",
   "execution_count": null,
   "id": "76",
   "metadata": {},
   "outputs": [],
   "source": [
    "styled_df = fraction_matrix.round(2).style.map(lambda x: \"font-weight: bold\" if x > 50 else \"\").format(\"{:.2f}\")\n",
    "styled_df"
   ]
  },
  {
   "cell_type": "code",
   "execution_count": null,
   "id": "77",
   "metadata": {},
   "outputs": [],
   "source": [
    "seurat_cluster_142.sample(60)"
   ]
  },
  {
   "cell_type": "markdown",
   "id": "78",
   "metadata": {},
   "source": [
    "Our clusters:"
   ]
  },
  {
   "cell_type": "code",
   "execution_count": null,
   "id": "79",
   "metadata": {},
   "outputs": [],
   "source": [
    "genes_in_my_clusters = pd.DataFrame(all_data.uns['rank_genes_groups']['names']).head(200)"
   ]
  },
  {
   "cell_type": "code",
   "execution_count": null,
   "id": "80",
   "metadata": {},
   "outputs": [],
   "source": [
    "genes_in_my_clusters"
   ]
  },
  {
   "cell_type": "code",
   "execution_count": null,
   "id": "81",
   "metadata": {},
   "outputs": [],
   "source": [
    "for i in range(genes_in_my_clusters.shape[0]):\n",
    "    for j in range(genes_in_my_clusters.shape[1]):\n",
    "        genes_in_my_clusters.iloc[i,j] = genename_mapping.get(genes_in_my_clusters.iloc[i,j], genes_in_my_clusters.iloc[i,j])"
   ]
  },
  {
   "cell_type": "code",
   "execution_count": null,
   "id": "82",
   "metadata": {},
   "outputs": [],
   "source": [
    "genes_in_my_clusters = { i: set(genes_in_my_clusters[str(i)]) for i in range(genes_in_my_clusters.shape[1])}"
   ]
  },
  {
   "cell_type": "code",
   "execution_count": null,
   "id": "83",
   "metadata": {},
   "outputs": [],
   "source": [
    "genes_in_my_clusters"
   ]
  },
  {
   "cell_type": "markdown",
   "id": "84",
   "metadata": {},
   "source": [
    "Clusters in paper:"
   ]
  },
  {
   "cell_type": "code",
   "execution_count": null,
   "id": "85",
   "metadata": {},
   "outputs": [],
   "source": [
    "sheet_names = [  \"C0C4C10C11 healthy mesophyl\", \n",
    "  \"C1 responsive epidermal cells\",\n",
    "  \"C2 vascular S cells\",\n",
    "  \"C5\",\n",
    "  \"C8 responsive mesophyl cells\",\n",
    "  \"C9 healthy epidermal cells\",\n",
    "  \"C13\",\n",
    "  \"C16 guard cells\"\n",
    "]\n",
    "\n",
    "genes_in_cluster = dict()\n",
    "\n",
    "for cluster in sheet_names:\n",
    "    supp_material_clusters = pd.read_excel(\"~/Postdoc/Papers/AT_PST_ScienceDirect_files_06Nov2024_13-40-25.581/1-s2.0-S2590346223002043-mmc5.xlsx\", sheet_name=cluster)\n",
    "    genes = supp_material_clusters[~supp_material_clusters['Gene model'].isna()][\"Gene model\"]\n",
    "    genes_in_cluster[cluster] = set(genes.to_list())"
   ]
  },
  {
   "cell_type": "code",
   "execution_count": null,
   "id": "86",
   "metadata": {},
   "outputs": [],
   "source": [
    "conting_matrix = np.zeros((len(genes_in_my_clusters), len(genes_in_cluster)), int)"
   ]
  },
  {
   "cell_type": "code",
   "execution_count": null,
   "id": "87",
   "metadata": {},
   "outputs": [],
   "source": [
    "for i, (cluster_i, genes_i) in enumerate(genes_in_my_clusters.items()):\n",
    "    for j, (cluster_j, genes_j) in enumerate(genes_in_cluster.items()):\n",
    "        conting_matrix[i,j] = len(genes_i.intersection(genes_j))"
   ]
  },
  {
   "cell_type": "code",
   "execution_count": null,
   "id": "88",
   "metadata": {},
   "outputs": [],
   "source": [
    "pd.DataFrame(conting_matrix).T"
   ]
  },
  {
   "cell_type": "markdown",
   "id": "89",
   "metadata": {},
   "source": [
    "## Gene ontology term enrichment"
   ]
  },
  {
   "cell_type": "code",
   "execution_count": null,
   "id": "90",
   "metadata": {},
   "outputs": [],
   "source": [
    "gp = GProfiler(return_dataframe=True)\n",
    "results = {}\n",
    "for cluster_name, genes in genes_in_my_clusters.items():\n",
    "    query_for_go_terms(genes)\n",
    "    results[cluster_name] = enriched"
   ]
  },
  {
   "cell_type": "code",
   "execution_count": null,
   "id": "91",
   "metadata": {},
   "outputs": [],
   "source": [
    "all_go_results = pd.concat([results[i].assign(cluster=i) for i in range(len(results))])"
   ]
  },
  {
   "cell_type": "code",
   "execution_count": null,
   "id": "92",
   "metadata": {},
   "outputs": [],
   "source": [
    "all_go_results[all_go_results.name.apply(lambda x: 'response' in x)].sort_values(\"p_value\")"
   ]
  },
  {
   "cell_type": "code",
   "execution_count": null,
   "id": "93",
   "metadata": {},
   "outputs": [],
   "source": [
    "cluster, gene_term = 11, 'GO:0006952'\n",
    "cluster, gene_term = 6, \"GO:0043207\"\n",
    "cluster, gene_term = 4, \"GO:0009607\"\n",
    "\n",
    "term_details = gp.convert(\n",
    "    query=gene_term,\n",
    "    organism=\"athaliana\",\n",
    "    target_namespace=\"ENSG\",\n",
    ")"
   ]
  },
  {
   "cell_type": "code",
   "execution_count": null,
   "id": "94",
   "metadata": {},
   "outputs": [],
   "source": [
    "\"AT2G45180\" in term_details[term_details.converted.isin(genes_in_my_clusters[cluster])].converted"
   ]
  },
  {
   "cell_type": "markdown",
   "id": "95",
   "metadata": {},
   "source": [
    "# Compare to Seurat"
   ]
  },
  {
   "cell_type": "code",
   "execution_count": null,
   "id": "96",
   "metadata": {},
   "outputs": [],
   "source": [
    "open(\"2000_highly_variable_genes.txt\", \"w\").write(\"\\n\".join(all_data.var['highly_variable'][all_data.var['highly_variable']].index.to_list()))\n",
    "highly_variable_scanpy = set(pd.read_csv(\"2000_highly_variable_genes.txt\").iloc[:,0])\n",
    "\n",
    "highly_variable_seurat = set(pd.read_csv(\"2000_highly_variable_genes_seurat.txt\").iloc[:,0])\n",
    "\n",
    "len(highly_variable_scanpy & highly_variable_seurat) # &: intersection"
   ]
  },
  {
   "cell_type": "code",
   "execution_count": null,
   "id": "97",
   "metadata": {},
   "outputs": [],
   "source": [
    "highly_variable_seurat_seed142 = set(pd.read_csv(\"2000_highly_variable_genes_seurat_seed142.txt\").iloc[:,0])\n",
    "highly_variable_seurat_seed242 = set(pd.read_csv(\"2000_highly_variable_genes_seurat_seed242.txt\").iloc[:,0])"
   ]
  },
  {
   "cell_type": "code",
   "execution_count": null,
   "id": "98",
   "metadata": {},
   "outputs": [],
   "source": [
    "len(highly_variable_seurat_seed142 & highly_variable_seurat_seed242)"
   ]
  }
 ],
 "metadata": {
  "kernelspec": {
   "display_name": "Python 3 (ipykernel)",
   "language": "python",
   "name": "python3"
  },
  "language_info": {
   "codemirror_mode": {
    "name": "ipython",
    "version": 3
   },
   "file_extension": ".py",
   "mimetype": "text/x-python",
   "name": "python",
   "nbconvert_exporter": "python",
   "pygments_lexer": "ipython3",
   "version": "3.10.16"
  }
 },
 "nbformat": 4,
 "nbformat_minor": 5
}
