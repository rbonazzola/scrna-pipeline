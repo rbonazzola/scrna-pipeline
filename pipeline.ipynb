{
 "cells": [
  {
   "cell_type": "code",
   "execution_count": null,
   "id": "93ea9277-6a04-4c3d-960b-7873281d30c9",
   "metadata": {},
   "outputs": [],
   "source": [
    "import scanpy\n",
    "import pandas as pd\n",
    "import numpy as np\n",
    "import matplotlib.pyplot as plt"
   ]
  },
  {
   "cell_type": "markdown",
   "id": "2e0d215f-44a0-460a-a51c-985f3d4f3c70",
   "metadata": {},
   "source": [
    "### Cargar datos"
   ]
  },
  {
   "cell_type": "markdown",
   "id": "173c9c31-2e61-4376-9324-e9b9732478af",
   "metadata": {},
   "source": [
    "Leemos los datos"
   ]
  },
  {
   "cell_type": "code",
   "execution_count": null,
   "id": "8c70db4a-e6d5-41f4-85ec-647f115d7b18",
   "metadata": {},
   "outputs": [],
   "source": [
    "rep1 = scanpy.read_10x_mtx(\"data/WT1\", make_unique=True)\n",
    "rep2 = scanpy.read_10x_mtx(\"data/WT2\", make_unique=True)\n",
    "rep3 = scanpy.read_10x_mtx(\"data/WT3\", make_unique=True)\n",
    "\n",
    "all_data = scanpy.concat([rep1, rep2, rep3])\n",
    "\n",
    "# Ver cómo funciona esto\n",
    "all_data.obs_names_make_unique()"
   ]
  },
  {
   "cell_type": "markdown",
   "id": "ad3c2814-3c43-4e18-9b7d-ee8f69d4428c",
   "metadata": {},
   "source": [
    "### Create gene name mapping (from \"gene symbols\" to TAIR IDs)"
   ]
  },
  {
   "cell_type": "markdown",
   "id": "9de3e736-e840-4a7a-bc4d-c562bf4ba320",
   "metadata": {},
   "source": [
    "Write gene names to a text file. This will be loaded by an R script which will query Biomart for the corresponding TAIR IDs (gene IDs that start with `AT`), this is important for filtering the chloroplastic and mitochondrial genes which are recognized by their names."
   ]
  },
  {
   "cell_type": "code",
   "execution_count": null,
   "id": "2b5776f1-f6ea-46b1-a011-1df00923ebbd",
   "metadata": {},
   "outputs": [],
   "source": [
    "with open(\"gene_names.txt\", \"wt\") as genes_f:\n",
    "    genes_f.write(\"\\n\".join(all_data.var_names.to_list()))"
   ]
  },
  {
   "cell_type": "code",
   "execution_count": null,
   "id": "e4c971ad-92b8-48ce-b71c-66a54d488f28",
   "metadata": {},
   "outputs": [],
   "source": [
    "# genename_mapping = pd.read_csv(\"gene_symbols_to_tair_ids.txt\")\n",
    "# genename_mapping = { row.external_gene_name: row.tair_locus for index, row in genename_mapping.iterrows() }"
   ]
  },
  {
   "cell_type": "markdown",
   "id": "155dcfd9-ed71-45a1-b3fe-aa0e50279bea",
   "metadata": {},
   "source": [
    "___"
   ]
  },
  {
   "cell_type": "code",
   "execution_count": null,
   "id": "e4bbacff-2b23-4280-9b4a-92e9b3b3cdb7",
   "metadata": {},
   "outputs": [],
   "source": [
    "print(f\"Hay {len(rep1.obs_names)} células\")\n",
    "print(f\"Hay {len(rep1.var_names)} genes\")\n",
    "\n",
    "print(f\"Hay {len(rep2.obs_names)} células\")\n",
    "print(f\"Hay {len(rep2.var_names)} genes\")\n",
    "\n",
    "print(f\"Hay {len(rep3.obs_names)} células\")\n",
    "print(f\"Hay {len(rep3.var_names)} genes\")\n",
    "\n",
    "print(f\"Hay {len(all_data.obs_names)} células\")\n",
    "print(f\"Hay {len(all_data.var_names)} genes\")"
   ]
  },
  {
   "cell_type": "markdown",
   "id": "1fa5bc0b-a178-431c-84dc-4e15f1b5cd0b",
   "metadata": {},
   "source": [
    "___\n",
    "Filter cells for at least 3 genes, filter genes for at least 200 cells."
   ]
  },
  {
   "cell_type": "code",
   "execution_count": null,
   "id": "3a16bc14-2983-4367-84fa-42d2beb3e813",
   "metadata": {},
   "outputs": [],
   "source": [
    "MIN_GENES, MIN_CELLS = 3, 200"
   ]
  },
  {
   "cell_type": "code",
   "execution_count": null,
   "id": "aa24cf88-d63b-4107-98dc-1c7d24efdee7",
   "metadata": {},
   "outputs": [],
   "source": [
    "scanpy.pp.filter_cells(all_data, min_genes=MIN_GENES)\n",
    "print(all_data.shape)\n",
    "scanpy.pp.filter_genes(all_data, min_cells=MIN_CELLS)\n",
    "print(all_data.shape)"
   ]
  },
  {
   "cell_type": "markdown",
   "id": "967fe6b1-05e9-4d8d-84f0-37fe793d6076",
   "metadata": {},
   "source": [
    "Identify chloroplastic and mitocondrial genes:"
   ]
  },
  {
   "cell_type": "code",
   "execution_count": null,
   "id": "370aef6a-568c-4939-ad53-f2ae43dbd670",
   "metadata": {},
   "outputs": [],
   "source": [
    "from gprofiler import GProfiler\n",
    "gp = GProfiler(return_dataframe=True)\n",
    "genename_mapping_df = gp.convert(all_data.var_names.to_list(), organism=\"athaliana\", target_namespace=\"TAIR_LOCUS\")"
   ]
  },
  {
   "cell_type": "code",
   "execution_count": null,
   "id": "be421652-6b5e-41c8-af3c-e7e541ba56aa",
   "metadata": {},
   "outputs": [],
   "source": [
    "genename_mapping_df.head()"
   ]
  },
  {
   "cell_type": "markdown",
   "id": "a7edab08-f269-4ec1-b681-072aa7fe4c3e",
   "metadata": {},
   "source": [
    "Creamos un diccionario para usar luego:"
   ]
  },
  {
   "cell_type": "code",
   "execution_count": null,
   "id": "8d890626-8ea1-434b-841b-59ef86697824",
   "metadata": {},
   "outputs": [],
   "source": [
    "genename_mapping = {row.incoming: row.converted for i, row in genename_mapping_df.iterrows()}"
   ]
  },
  {
   "cell_type": "code",
   "execution_count": null,
   "id": "de74bb99-7097-4664-bccd-a86fde46c94e",
   "metadata": {},
   "outputs": [],
   "source": [
    "def get_chloroplast_genes(adata: scanpy.AnnData):\n",
    "    return adata.var_names[tair_ids.str.startswith(\"ATCG\")].to_list()\n",
    "\n",
    "def get_mitochondrial_genes(adata: scanpy.AnnData):\n",
    "    return adata.var_names[tair_ids.str.startswith(\"ATMG\")].to_list()"
   ]
  },
  {
   "cell_type": "code",
   "execution_count": null,
   "id": "f1b1c717-f1cf-474c-82e0-33de43ba0c79",
   "metadata": {},
   "outputs": [],
   "source": [
    "tair_ids = pd.Series(all_data.var_names).apply(lambda x: genename_mapping.get(x, x))\n",
    "\n",
    "chloroplast_genes     = get_chloroplast_genes(all_data)\n",
    "mitochondrial_genes   = get_mitochondrial_genes(all_data)"
   ]
  },
  {
   "cell_type": "code",
   "execution_count": null,
   "id": "e4e17aed-d816-4794-ac5c-9ab7fac7f8b8",
   "metadata": {},
   "outputs": [],
   "source": [
    "print(f\"Chloroplastic genes: {chloroplast_genes}\")\n",
    "print(f\"Mitochondrial genes: {mitochondrial_genes}\")\n",
    "\n",
    "all_data.shape"
   ]
  },
  {
   "cell_type": "code",
   "execution_count": null,
   "id": "04e1b42b-6235-4b2f-8273-f32dfc9f3a86",
   "metadata": {},
   "outputs": [],
   "source": [
    "all_data.obs['percent_pt'] = (\n",
    "    all_data[:, chloroplast_genes].X.sum(axis=1) / all_data.X.sum(axis=1)\n",
    ") * 100  # Convert to percentage\n",
    "\n",
    "all_data.obs['percent_mt'] = (\n",
    "    all_data[:, mitochondrial_genes].X.sum(axis=1) / all_data.X.sum(axis=1)\n",
    ") * 100"
   ]
  },
  {
   "cell_type": "code",
   "execution_count": null,
   "id": "b5de8707-3f93-4cc2-aa2f-7a1ee0e51cad",
   "metadata": {},
   "outputs": [],
   "source": [
    "all_data.obs['percent_pt'][all_data.obs['percent_pt'] > 5]"
   ]
  },
  {
   "cell_type": "code",
   "execution_count": null,
   "id": "68a7d66c-0cf8-4e0b-92e5-00209a90e73d",
   "metadata": {},
   "outputs": [],
   "source": [
    "all_data.obs['percent_mt'][all_data.obs['percent_mt'] > 5]"
   ]
  },
  {
   "cell_type": "markdown",
   "id": "98545ab0-5ac4-471d-ad37-00de334b6602",
   "metadata": {},
   "source": [
    "___\n",
    "\n",
    "Check the docs: https://scanpy.readthedocs.io/en/stable/generated/scanpy.pp.highly_variable_genes.html"
   ]
  },
  {
   "cell_type": "code",
   "execution_count": null,
   "id": "ba7b8c32-aea0-40ee-8407-80db9df9df04",
   "metadata": {},
   "outputs": [],
   "source": [
    "FLAVOR = \"seurat_v3\"\n",
    "scanpy.pp.highly_variable_genes(all_data, flavor=FLAVOR, n_top_genes=2000, batch_key=None)  # min_mean=0.0125, max_mean=3, min_disp=0.5\n",
    "\n",
    "all_data.var"
   ]
  },
  {
   "cell_type": "markdown",
   "id": "4eec6f94-c9e2-4a1b-8755-652d2ee6891a",
   "metadata": {},
   "source": [
    "___\n",
    "Top highly variable genes:"
   ]
  },
  {
   "cell_type": "markdown",
   "id": "b1b83721-2a96-4098-ad82-7b11a419110a",
   "metadata": {},
   "source": [
    "How is `variances_norm` calculated?"
   ]
  },
  {
   "cell_type": "code",
   "execution_count": null,
   "id": "44be01b3-147c-40fd-8195-9b1ed09223cc",
   "metadata": {},
   "outputs": [],
   "source": [
    "all_data.var.sort_values('variances_norm').head(20)"
   ]
  },
  {
   "cell_type": "markdown",
   "id": "f51f901c-1b5a-4b52-a10b-24a24e2f7599",
   "metadata": {},
   "source": [
    "Genes that are not highly variable:"
   ]
  },
  {
   "cell_type": "code",
   "execution_count": null,
   "id": "289b975e-2bc4-41b7-bbfe-1b1ec67fbdaf",
   "metadata": {},
   "outputs": [],
   "source": [
    "all_data.var.sort_values('variances_norm').head(20)"
   ]
  },
  {
   "cell_type": "code",
   "execution_count": null,
   "id": "00b4504b-8bf9-48a3-b97f-1d6ad2189fe2",
   "metadata": {},
   "outputs": [],
   "source": [
    "RANDOM_STATE = 142"
   ]
  },
  {
   "cell_type": "code",
   "execution_count": null,
   "id": "596537c1-2c70-40b8-93ef-037f5ff5bf89",
   "metadata": {},
   "outputs": [],
   "source": [
    "# scanpy.pp.normalize_total(all_data)"
   ]
  },
  {
   "cell_type": "markdown",
   "id": "0cc7e125-6a72-4b64-9a88-45d428f0f547",
   "metadata": {},
   "source": [
    "Acá hay un paso de transformación de las cuentas que es opcional (pero se suele hacer). En lo que sigue hacemos normalización "
   ]
  },
  {
   "cell_type": "code",
   "execution_count": null,
   "id": "2d73dcee-0a6c-4f9d-80cc-d715b6523929",
   "metadata": {},
   "outputs": [],
   "source": [
    "scanpy.experimental.pp.normalize_pearson_residuals_pca(all_data, n_comps=50)"
   ]
  },
  {
   "cell_type": "code",
   "execution_count": null,
   "id": "395ed86b-d653-43e7-9f07-e9c2a8c98eec",
   "metadata": {},
   "outputs": [],
   "source": [
    "# plt.plot(np.cumsum(all_data.uns['pca']['variance_ratio']))\n",
    "plt.plot(all_data.uns['pca']['variance'])"
   ]
  },
  {
   "cell_type": "code",
   "execution_count": null,
   "id": "1ad3f202-78f6-4d98-b568-c980b8151cc1",
   "metadata": {},
   "outputs": [],
   "source": [
    "# scanpy.pp.pca(all_data, n_comps=50, mask_var=\"highly_variable\", random_state=RANDOM_STATE)"
   ]
  },
  {
   "cell_type": "code",
   "execution_count": null,
   "id": "184a14b8-90d5-4221-9a72-9b49353924d9",
   "metadata": {},
   "outputs": [],
   "source": [
    "scanpy.pp.neighbors(all_data, n_neighbors=10, n_pcs=50, random_state=RANDOM_STATE)"
   ]
  },
  {
   "cell_type": "code",
   "execution_count": null,
   "id": "32b5053c-c082-43d5-8ef0-0fb7ffe0fe69",
   "metadata": {},
   "outputs": [],
   "source": [
    "scanpy.tl.leiden(all_data, resolution=1.5)"
   ]
  },
  {
   "cell_type": "markdown",
   "id": "780236e5-d5c4-4b30-9990-68afa54ac9f5",
   "metadata": {},
   "source": [
    "## UMAP\n"
   ]
  },
  {
   "cell_type": "code",
   "execution_count": null,
   "id": "3c1e912d-9684-47b6-a2ad-50bcbc675d9a",
   "metadata": {},
   "outputs": [],
   "source": [
    "scanpy.tl.umap(all_data, random_state=RANDOM_STATE)"
   ]
  },
  {
   "cell_type": "code",
   "execution_count": null,
   "id": "5a83a2d7-caa6-496e-b6a4-9eeca2b21cd9",
   "metadata": {},
   "outputs": [],
   "source": [
    "plt.figure(figsize=(10, 10))\n",
    "scanpy.pl.umap(all_data, color='leiden', \n",
    "           palette='Set2',  # You can choose different color palettes\n",
    "           title='UMAP Colored by Clusters')\n",
    "# plt.tight_layout()\n",
    "plt.show()"
   ]
  },
  {
   "cell_type": "code",
   "execution_count": null,
   "id": "26ab93e5-4c74-410d-b051-85c0adfdf0a2",
   "metadata": {},
   "outputs": [],
   "source": [
    "sorted(all_data.obs['leiden'].unique().astype(int))"
   ]
  },
  {
   "cell_type": "code",
   "execution_count": null,
   "id": "80a71bec-8103-49ff-9c3b-b54ad68d6c51",
   "metadata": {},
   "outputs": [],
   "source": [
    "import pandas as pd\n",
    "import seaborn as sns\n",
    "import matplotlib.pyplot as plt\n",
    "\n",
    "data={}\n",
    "for v in sorted(all_data.obs['leiden'].unique().astype(int)):\n",
    "    data[v]=all_data[all_data.obs['leiden']==str(v)].shape[0]# /all_data.shape[0]*100\n",
    "df = pd.DataFrame.from_dict(data, orient='index', columns=['cell counts'])    \n",
    "df['cluster'] = df.index\n",
    "df =df.reset_index(drop=True)\n",
    "sns.barplot(data=df, x='cluster', y='cell counts')\n",
    "plt.show()\n"
   ]
  },
  {
   "cell_type": "code",
   "execution_count": null,
   "id": "8d35f213-4d27-426d-a1b7-8e00af2d32da",
   "metadata": {},
   "outputs": [],
   "source": [
    "import warnings\n",
    "warnings.filterwarnings(\"ignore\")\n",
    "scanpy.tl.rank_genes_groups(all_data, 'leiden', method='wilcoxon') # \"t-test\""
   ]
  },
  {
   "cell_type": "code",
   "execution_count": null,
   "id": "0b9c8f47-fcc6-4912-8725-c3028bcf26fd",
   "metadata": {},
   "outputs": [],
   "source": [
    "scanpy.pl.rank_genes_groups(all_data, n_genes=20, sharey=False)"
   ]
  },
  {
   "cell_type": "markdown",
   "id": "62cfbe01-0352-439c-bd09-9dcf8c3217dc",
   "metadata": {},
   "source": [
    "Our clusters:"
   ]
  },
  {
   "cell_type": "code",
   "execution_count": null,
   "id": "6ad2fcf9-f0eb-4085-9cbf-0d91469e7ef2",
   "metadata": {},
   "outputs": [],
   "source": [
    "genes_in_my_clusters = pd.DataFrame(all_data.uns['rank_genes_groups']['names']).head(200)"
   ]
  },
  {
   "cell_type": "code",
   "execution_count": null,
   "id": "49b3593b-102d-410a-be91-e01e536ee18a",
   "metadata": {},
   "outputs": [],
   "source": [
    "for i in range(genes_in_my_clusters.shape[0]):\n",
    "    for j in range(genes_in_my_clusters.shape[1]):\n",
    "        genes_in_my_clusters.iloc[i,j] = genename_mapping.get(genes_in_my_clusters.iloc[i,j], genes_in_my_clusters.iloc[i,j])"
   ]
  },
  {
   "cell_type": "code",
   "execution_count": null,
   "id": "4b283e8a-5d8a-4a0a-872b-0d20d8d5a86b",
   "metadata": {},
   "outputs": [],
   "source": [
    "genes_in_my_clusters = { i: set(genes_in_my_clusters[str(i)]) for i in range(genes_in_my_clusters.shape[1])}"
   ]
  },
  {
   "cell_type": "markdown",
   "id": "5ab7aafe-f9ba-4bd4-bd30-06e70a1daba7",
   "metadata": {},
   "source": [
    "Clusters in paper:"
   ]
  },
  {
   "cell_type": "code",
   "execution_count": null,
   "id": "47a8db5d-b490-4ca7-bfea-efa9a2cd884c",
   "metadata": {},
   "outputs": [],
   "source": [
    "sheet_names = [  \"C0C4C10C11 healthy mesophyl\", \n",
    "  \"C1 responsive epidermal cells\",\n",
    "  \"C2 vascular S cells\",\n",
    "  \"C5\",\n",
    "  \"C8 responsive mesophyl cells\",\n",
    "  \"C9 healthy epidermal cells\",\n",
    "  \"C13\",\n",
    "  \"C16 guard cells\"\n",
    "]\n",
    "\n",
    "genes_in_cluster = dict()\n",
    "\n",
    "for cluster in sheet_names:\n",
    "    supp_material_clusters = pd.read_excel(\"~/Postdoc/Papers/AT_PST_ScienceDirect_files_06Nov2024_13-40-25.581/1-s2.0-S2590346223002043-mmc5.xlsx\", sheet_name=cluster)\n",
    "    genes = supp_material_clusters[~supp_material_clusters['Gene model'].isna()][\"Gene model\"]\n",
    "    genes_in_cluster[cluster] = set(genes.to_list())"
   ]
  },
  {
   "cell_type": "code",
   "execution_count": null,
   "id": "db7f6b70-e25c-4a00-9099-5c1e10f3b552",
   "metadata": {},
   "outputs": [],
   "source": [
    "conting_matrix = np.zeros((len(genes_in_my_clusters), len(genes_in_cluster)), int)"
   ]
  },
  {
   "cell_type": "code",
   "execution_count": null,
   "id": "cbed4da0-145a-4c89-a58b-cfa648605caa",
   "metadata": {},
   "outputs": [],
   "source": [
    "for i, (cluster_i, genes_i) in enumerate(genes_in_my_clusters.items()):\n",
    "    for j, (cluster_j, genes_j) in enumerate(genes_in_cluster.items()):\n",
    "        conting_matrix[i,j] = len(genes_i.intersection(genes_j))"
   ]
  },
  {
   "cell_type": "code",
   "execution_count": null,
   "id": "4e105611-47e6-480c-8f65-476e030ddd0a",
   "metadata": {
    "scrolled": true
   },
   "outputs": [],
   "source": [
    "pd.DataFrame(conting_matrix).T"
   ]
  },
  {
   "cell_type": "markdown",
   "id": "43f84b83-4130-4d86-a668-65868e458dcd",
   "metadata": {},
   "source": [
    "### Marker genes"
   ]
  },
  {
   "cell_type": "code",
   "execution_count": null,
   "id": "6c67cd0d-dbdc-4fe1-a5c0-67490850b8fd",
   "metadata": {},
   "outputs": [],
   "source": [
    "Guard_cell = ['GC-AT5G25980','GC-AT5G48485','GC-AT1G62480','GC-AT3G16400','GC-AT2G15830','GC-AT1G71050','GC-AT2G19810','GC-AT4G37870','GC-AT5G66400','GC-AT3G23730','GC-AT3G24140','GC-AT5G66440','GC-AT3G56620','GC-AT4G37430','GC-AT2G34655','GC-AT2G47260','GC-AT5G42970','GC-AT3G58640','GC-AT1G23170','GC-AT1G29050']\n",
    "Companion_cell = ['CC-AT1G23130','CC-AT1G67865','CC-AT1G64370','CC-AT4G19840','CC-AT2G18328','CC-AT5G18600','CC-AT1G67860','CC-AT1G67870','CC-AT5G45350','CC-AT2G32870','CC-AT5G04080','CC-AT5G22090','CC-AT4G00780','CC-AT1G07610','CC-AT4G16008','CC-AT1G06830','CC-AT2G16740','CC-AT2G30540','CC-AT4G16000','CC-AT4G15690']\n",
    "Epidermia_cell = ['EC-AT2G38540','EC-AT1G66100','EC-AT1G09310','EC-AT3G51600','EC-AT5G25610','EC-AT5G44020','EC-AT3G16370','EC-AT2G27385','EC-AT3G26450','EC-AT1G68530','EC-AT2G32690','EC-AT4G04840','EC-AT4G23670','EC-AT1G29660','EC-AT5G13930','EC-AT5G64770','EC-AT4G39330','EC-AT1G29670','EC-AT1G55260','EC-AT2G26250']\n",
    "Mesophyl_cell = ['MC-AT2G10940','MC-AT5G38430','MC-AT3G08940','MC-AT1G72610','MC-AT3G27690','MC-AT2G05070','MC-AT1G12090','MC-AT1G29910','MC-AT2G34420','MC-AT2G34430','MC-AT1G15820','MC-AT2G21330','MC-AT1G06680','MC-AT3G59400','MC-AT2G05100','MC-AT1G67090','MC-AT3G54890','MC-AT5G66570','MC-AT4G38970','MC-AT1G44575']\n",
    "Mesophyl_cell_2 = ['MC2-AT1G18740','MC2-AT1G74930','MC2-AT1G27730','MC2-AT2G44840','MC2-AT1G80840','MC2-AT3G44260','MC2-AT5G12030','MC2-AT5G12020','MC2-AT1G74450','MC2-AT4G24570','MC2-AT3G56880','MC2-AT1G71000','MC2-AT5G66650','MC2-AT4G27652','MC2-AT3G46230','MC2-AT3G12580','MC2-AT3G55980','MC2-AT4G34410','MC2-AT5G52050','MC2-AT1G07400']\n",
    "Hydathode_cell = ['HC-AT3G16670','HC-AT3G05730','HC-AT3G16660','HC-AT1G56710','HC-AT3G09330','HC-AT1G22900','HC-AT1G08090','HC-AT4G36260','HC-AT4G32950','HC-AT2G43610','HC-AT4G23550','HC-AT2G19990','HC-AT1G62510','HC-AT2G33175','HC-AT2G38940','HC-AT3G14060','HC-AT3G60700','HC-AT1G19610','HC-AT5G60910']#,'HC-AT1G08757']\n",
    "S_cell = ['SC-AT1G78370','SC-AT3G19710','SC-AT2G30860','SC-AT1G80520','SC-AT2G43100','SC-AT5G23010','SC-AT5G02380','SC-AT2G22330','SC-AT3G14990','SC-AT2G46650','SC-AT2G26690','SC-AT5G14200','SC-AT2G22860','SC-AT5G01600','SC-AT4G14040','SC-AT3G11930','SC-AT2G37170','SC-AT3G15450','SC-AT5G03610','SC-AT1G11580']"
   ]
  },
  {
   "cell_type": "code",
   "execution_count": null,
   "id": "06624ae7-f398-448e-a22c-04663194a76b",
   "metadata": {},
   "outputs": [],
   "source": []
  }
 ],
 "metadata": {
  "kernelspec": {
   "display_name": "scRNA",
   "language": "python",
   "name": "scrna"
  },
  "language_info": {
   "codemirror_mode": {
    "name": "ipython",
    "version": 3
   },
   "file_extension": ".py",
   "mimetype": "text/x-python",
   "name": "python",
   "nbconvert_exporter": "python",
   "pygments_lexer": "ipython3",
   "version": "3.10.0"
  }
 },
 "nbformat": 4,
 "nbformat_minor": 5
}
